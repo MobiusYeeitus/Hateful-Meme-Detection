{
 "cells": [
  {
   "cell_type": "markdown",
   "metadata": {},
   "source": [
    "All the basic imports."
   ]
  },
  {
   "cell_type": "code",
   "execution_count": 187,
   "metadata": {},
   "outputs": [],
   "source": [
    "import pandas as pd                                         #https://pandas.pydata.org/docs/index.html\n",
    "from pandas import read_csv,read_json\n",
    "\n",
    "import imageio\n",
    "import os"
   ]
  },
  {
   "cell_type": "markdown",
   "metadata": {},
   "source": [
    "Some constants."
   ]
  },
  {
   "cell_type": "code",
   "execution_count": 188,
   "metadata": {},
   "outputs": [],
   "source": [
    "path_input='data/img/'\n",
    "path_output='data/img_processed/'\n",
    "image_num='01243'"
   ]
  },
  {
   "cell_type": "markdown",
   "metadata": {},
   "source": [
    "First I will try to work on text recognition in an image.\n",
    "\n",
    "Pytesseract is an optical character recognition tool for python. It is a wrapper for tor Google's Tesseract-OCR Engine."
   ]
  },
  {
   "cell_type": "code",
   "execution_count": 189,
   "metadata": {},
   "outputs": [
    {
     "name": "stdout",
     "output_type": "stream",
     "text": [
      "\" * te\n",
      "When your human’ says: “%\n",
      "_ “who's agood girlas — el\n",
      "\n",
      "im o->\n",
      "4 a7\n",
      "\n",
      "} >\n",
      "—\n",
      "\n",
      "and you already know it's you\n",
      "\n"
     ]
    }
   ],
   "source": [
    "import pytesseract                                          #https://pypi.org/project/pytesseract/\n",
    "\n",
    "print(pytesseract.image_to_string(path_input+image_num+'.png',lang='eng'))"
   ]
  },
  {
   "cell_type": "markdown",
   "metadata": {},
   "source": [
    "Shit doesn't work well out of the box.\n",
    "\n",
    "It seems I will need to check out OpenCV's threshold blah blah.\n",
    "\n",
    "I'm sleepy will try tomorrow.\n",
    "\n",
    "Fuck tomorrow, today it is."
   ]
  },
  {
   "cell_type": "markdown",
   "metadata": {},
   "source": []
  },
  {
   "cell_type": "code",
   "execution_count": 190,
   "metadata": {},
   "outputs": [],
   "source": [
    "import cv2 as cv                                    #https://docs.opencv.org/4.x/d6/d00/tutorial_py_root.html\n",
    "\n",
    "from cv2 import threshold,adaptiveThreshold         #threshold needs a grayscale image to work properly      \n",
    "#thresholding-> https://docs.opencv.org/4.x/d7/d4d/tutorial_py_thresholding.html\n",
    "#threshold function-> https://docs.opencv.org/4.x/d7/d1b/group__imgproc__misc.html#gae8a4a146d1ca78c626a53577199e9c57\n",
    "#adaptiveThreshold function-> https://docs.opencv.org/4.x/d7/d1b/group__imgproc__misc.html#ga72b913f352e4a1b1b397736707afcde3\n",
    "\n",
    "from cv2 import cvtColor                            #changes colorspace based on the flag provided             \n",
    "#colorspace-> https://docs.opencv.org/4.x/df/d9d/tutorial_py_colorspaces.html\n",
    "#cvtColor function-> https://docs.opencv.org/4.x/d8/d01/group__imgproc__color__conversions.html#ga397ae87e1288a81d2363b61574eb8cab\n",
    "\n",
    "from cv2 import COLOR_BGR2GRAY                      #imports the flag for BGR to Grayscale conversion\n",
    "#list of conversion flags-> \n",
    "\n",
    "from cv2 import ADAPTIVE_THRESH_MEAN_C,ADAPTIVE_THRESH_GAUSSIAN_C       #imports the flags for adaptive thresholding\n",
    "#list of adaptive threshold function flags-> https://docs.opencv.org/4.x/d7/d1b/group__imgproc__misc.html#gaa42a3e6ef26247da787bf34030ed772c\n",
    "\n",
    "from cv2 import THRESH_BINARY,THRESH_BINARY_INV     #imports the flags for types of thresholding\n",
    "#list of thresholding types flags-> https://docs.opencv.org/4.x/d7/d1b/group__imgproc__misc.html#gaa9e58d2860d4afa658ef70a9b1115576"
   ]
  },
  {
   "cell_type": "markdown",
   "metadata": {},
   "source": [
    "Applying a simple grayscale (B/W) conversion to the image with opencv."
   ]
  },
  {
   "cell_type": "code",
   "execution_count": 191,
   "metadata": {},
   "outputs": [],
   "source": [
    "img=cv.imread(path_input+image_num+'.png')\n",
    "gray=cvtColor(img,COLOR_BGR2GRAY)\n",
    "\n",
    "if os.path.isdir(path_output):\n",
    "    cv.imwrite(path_output+image_num+'.png',gray)\n",
    "else:\n",
    "    os.mkdir(path_output)\n",
    "    cv.imwrite(path_output+image_num+'.png',gray)"
   ]
  },
  {
   "cell_type": "markdown",
   "metadata": {},
   "source": [
    "After the grayscale conversion, tesseract character recognition accuracy has improved (?)"
   ]
  },
  {
   "cell_type": "code",
   "execution_count": 192,
   "metadata": {},
   "outputs": [
    {
     "name": "stdout",
     "output_type": "stream",
     "text": [
      "when your humansays:\n",
      "_ ‘“who>sa good gira.\n",
      "Lh « 79\n",
      "\n",
      "and. you already Know it's you\n",
      "\n"
     ]
    }
   ],
   "source": [
    "print(pytesseract.image_to_string(path_output+image_num+'.png',lang='eng'))"
   ]
  },
  {
   "cell_type": "markdown",
   "metadata": {},
   "source": [
    "Time for threshold. After a lot of try and error and many voodoo dolls burned and demons summoned, it works (?)"
   ]
  },
  {
   "cell_type": "code",
   "execution_count": 193,
   "metadata": {},
   "outputs": [
    {
     "data": {
      "text/plain": [
       "True"
      ]
     },
     "execution_count": 193,
     "metadata": {},
     "output_type": "execute_result"
    }
   ],
   "source": [
    "gray_thres=adaptiveThreshold(gray,255,ADAPTIVE_THRESH_GAUSSIAN_C,THRESH_BINARY,3,9)\n",
    "cv.imwrite(path_output+image_num+'_t.png',gray_thres)"
   ]
  },
  {
   "cell_type": "markdown",
   "metadata": {},
   "source": []
  },
  {
   "cell_type": "code",
   "execution_count": 194,
   "metadata": {},
   "outputs": [
    {
     "name": "stdout",
     "output_type": "stream",
     "text": [
      "Hie Our IMA Says\n",
      "\n",
      "“who's a good oi”\n",
      "\n",
      "and sou alreaaly now i's you\n",
      "\n",
      "\n"
     ]
    }
   ],
   "source": [
    "print(pytesseract.image_to_string(path_output+image_num+'_t.png',lang='eng'))"
   ]
  },
  {
   "cell_type": "markdown",
   "metadata": {},
   "source": [
    "Copied code from G4G gives similar output."
   ]
  },
  {
   "cell_type": "code",
   "execution_count": 195,
   "metadata": {},
   "outputs": [],
   "source": [
    "ret, thresh1 = cv.threshold(gray, 0, 255, cv.THRESH_OTSU | cv.THRESH_BINARY_INV)\n",
    "\n",
    "# Specify structure shape and kernel size. \n",
    "# Kernel size increases or decreases the area \n",
    "# of the rectangle to be detected.\n",
    "# A smaller value like (10, 10) will detect \n",
    "# each word instead of a sentence.\n",
    "rect_kernel = cv.getStructuringElement(cv.MORPH_RECT, (18, 18))\n",
    "\n",
    "# Applying dilation on the threshold image\n",
    "dilation = cv.dilate(thresh1, rect_kernel, iterations = 1)\n",
    "contours, hierarchy = cv.findContours(dilation, cv.RETR_EXTERNAL, cv.CHAIN_APPROX_NONE)\n",
    "\n",
    "# Creating a copy of image\n",
    "im2 = gray_thres.copy()\n",
    "\n",
    "# A text file is created and flushed\n",
    "file = open(\"recognized.txt\", \"w+\")\n",
    "file.write(\"\")\n",
    "file.close()\n",
    "\n",
    "# Looping through the identified contours\n",
    "# Then rectangular part is cropped and passed on\n",
    "# to pytesseract for extracting text from it\n",
    "# Extracted text is then written into the text file\n",
    "for cnt in contours:\n",
    "    x, y, w, h = cv.boundingRect(cnt)\n",
    "    \n",
    "    # Drawing a rectangle on copied image\n",
    "    rect = cv.rectangle(im2, (x, y), (x + w, y + h), (0, 255, 0), 2)\n",
    "    \n",
    "    # Cropping the text block for giving input to OCR\n",
    "    cropped = im2[y:y + h, x:x + w]\n",
    "    \n",
    "    # Open the file in append mode\n",
    "    file = open(\"recognized.txt\", \"a\")\n",
    "    \n",
    "    # Apply OCR on the cropped image\n",
    "    text = pytesseract.image_to_string(cropped)\n",
    "    \n",
    "    # Appending the text into file\n",
    "    file.write(text)\n",
    "    file.write(\"\\n\")\n",
    "    \n",
    "    # Close the file\n",
    "    file.close()\n"
   ]
  },
  {
   "cell_type": "markdown",
   "metadata": {},
   "source": [
    "OKAY FUCK TESSERACT, ITS SHIT, GONNA TRY KERAS OCR NEXT"
   ]
  },
  {
   "cell_type": "code",
   "execution_count": null,
   "metadata": {},
   "outputs": [],
   "source": [
    "import keras_ocr                                                "
   ]
  }
 ],
 "metadata": {
  "kernelspec": {
   "display_name": "Python 3",
   "language": "python",
   "name": "python3"
  },
  "language_info": {
   "codemirror_mode": {
    "name": "ipython",
    "version": 3
   },
   "file_extension": ".py",
   "mimetype": "text/x-python",
   "name": "python",
   "nbconvert_exporter": "python",
   "pygments_lexer": "ipython3",
   "version": "3.11.2"
  }
 },
 "nbformat": 4,
 "nbformat_minor": 2
}

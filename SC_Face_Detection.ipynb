{
 "cells": [
  {
   "cell_type": "code",
   "execution_count": 1,
   "metadata": {},
   "outputs": [],
   "source": [
    "import pandas as pd\n",
    "import cv2\n",
    "import os\n",
    "from tqdm.notebook import tqdm"
   ]
  },
  {
   "cell_type": "markdown",
   "metadata": {},
   "source": [
    "Run SC_Data_Cleanup before this."
   ]
  },
  {
   "cell_type": "code",
   "execution_count": 49,
   "metadata": {},
   "outputs": [
    {
     "data": {
      "text/html": [
       "<div>\n",
       "<style scoped>\n",
       "    .dataframe tbody tr th:only-of-type {\n",
       "        vertical-align: middle;\n",
       "    }\n",
       "\n",
       "    .dataframe tbody tr th {\n",
       "        vertical-align: top;\n",
       "    }\n",
       "\n",
       "    .dataframe thead th {\n",
       "        text-align: right;\n",
       "    }\n",
       "</style>\n",
       "<table border=\"1\" class=\"dataframe\">\n",
       "  <thead>\n",
       "    <tr style=\"text-align: right;\">\n",
       "      <th></th>\n",
       "      <th>id</th>\n",
       "    </tr>\n",
       "  </thead>\n",
       "  <tbody>\n",
       "    <tr>\n",
       "      <th>0</th>\n",
       "      <td>42953</td>\n",
       "    </tr>\n",
       "    <tr>\n",
       "      <th>1</th>\n",
       "      <td>23058</td>\n",
       "    </tr>\n",
       "    <tr>\n",
       "      <th>2</th>\n",
       "      <td>37408</td>\n",
       "    </tr>\n",
       "    <tr>\n",
       "      <th>3</th>\n",
       "      <td>82403</td>\n",
       "    </tr>\n",
       "    <tr>\n",
       "      <th>4</th>\n",
       "      <td>16952</td>\n",
       "    </tr>\n",
       "    <tr>\n",
       "      <th>...</th>\n",
       "      <td>...</td>\n",
       "    </tr>\n",
       "    <tr>\n",
       "      <th>11124</th>\n",
       "      <td>71352</td>\n",
       "    </tr>\n",
       "    <tr>\n",
       "      <th>11125</th>\n",
       "      <td>2164</td>\n",
       "    </tr>\n",
       "    <tr>\n",
       "      <th>11126</th>\n",
       "      <td>3587</td>\n",
       "    </tr>\n",
       "    <tr>\n",
       "      <th>11127</th>\n",
       "      <td>47839</td>\n",
       "    </tr>\n",
       "    <tr>\n",
       "      <th>11128</th>\n",
       "      <td>34281</td>\n",
       "    </tr>\n",
       "  </tbody>\n",
       "</table>\n",
       "<p>11129 rows × 1 columns</p>\n",
       "</div>"
      ],
      "text/plain": [
       "          id\n",
       "0      42953\n",
       "1      23058\n",
       "2      37408\n",
       "3      82403\n",
       "4      16952\n",
       "...      ...\n",
       "11124  71352\n",
       "11125   2164\n",
       "11126   3587\n",
       "11127  47839\n",
       "11128  34281\n",
       "\n",
       "[11129 rows x 1 columns]"
      ]
     },
     "execution_count": 49,
     "metadata": {},
     "output_type": "execute_result"
    }
   ],
   "source": [
    "path_datasets='data/datasets/'\n",
    "df=pd.read_csv(path_datasets+'df_cleaned_2.csv')\n",
    "df['text']=df['text_ss']\n",
    "df=df[['id','text']]\n",
    "df_id=df[['id']]\n",
    "df_id"
   ]
  },
  {
   "cell_type": "markdown",
   "metadata": {},
   "source": [
    "Voodoo magik"
   ]
  },
  {
   "cell_type": "code",
   "execution_count": 51,
   "metadata": {},
   "outputs": [
    {
     "data": {
      "application/vnd.jupyter.widget-view+json": {
       "model_id": "ba673b9c7dfa455e9a22d6e0e70cb37f",
       "version_major": 2,
       "version_minor": 0
      },
      "text/plain": [
       "Identifying faces:   0%|          | 0/11129 [00:00<?, ?it/s]"
      ]
     },
     "metadata": {},
     "output_type": "display_data"
    }
   ],
   "source": [
    "path_images='data/img/'\n",
    "path_faces='data/img_processed/faces/'\n",
    "if os.path.isdir(path_faces)==False:\n",
    "    os.mkdir(path_faces)\n",
    "for i in tqdm((df_id['id']),desc='Identifying faces'):\n",
    "    path_img=path_images+str(i)+'.png'\n",
    "    img=cv2.imread(path_img)\n",
    "    face_engine=cv2.CascadeClassifier(cv2.data.haarcascades+'haarcascade_frontalface_default.xml')\n",
    "    faces=face_engine.detectMultiScale(img,scaleFactor=1.3,minNeighbors=5)\n",
    "    try: #implement_voodoo_magic()\n",
    "        faces!=()\n",
    "    except ValueError:\n",
    "        max_area=0\n",
    "        max_coords=None\n",
    "        for (x,y,w,h) in faces:\n",
    "            area=h*w\n",
    "            if area>max_area:\n",
    "                max_area=area\n",
    "                max_coords=(x,y,w,h)\n",
    "        cropped=img[max_coords[1]:max_coords[1]+max_coords[3], max_coords[0]:max_coords[0]+max_coords[2]]\n",
    "        face=cv2.resize(cropped,(128,128),interpolation=cv2.INTER_AREA)\n",
    "        cv2.imwrite(path_faces+str(i)+'.png',face)\n"
   ]
  }
 ],
 "metadata": {
  "kernelspec": {
   "display_name": "Python 3",
   "language": "python",
   "name": "python3"
  },
  "language_info": {
   "codemirror_mode": {
    "name": "ipython",
    "version": 3
   },
   "file_extension": ".py",
   "mimetype": "text/x-python",
   "name": "python",
   "nbconvert_exporter": "python",
   "pygments_lexer": "ipython3",
   "version": "3.11.2"
  }
 },
 "nbformat": 4,
 "nbformat_minor": 2
}

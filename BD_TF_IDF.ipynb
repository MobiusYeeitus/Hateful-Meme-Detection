{
 "cells": [
  {
   "cell_type": "markdown",
   "metadata": {},
   "source": [
    "import [library] as [nickname]\n",
    "\n",
    "from [library] import [function]"
   ]
  },
  {
   "cell_type": "code",
   "execution_count": 23,
   "metadata": {},
   "outputs": [],
   "source": [
    "import pandas as pd\n",
    "\n",
    "from matplotlib import pyplot as plt\n",
    "from sklearn.datasets import load_files\n",
    "from sklearn.feature_extraction.text import CountVectorizer\n",
    "from sklearn.feature_extraction.text import TfidfVectorizer\n",
    "from sklearn.linear_model import LogisticRegression\n",
    "from sklearn.naive_bayes import MultinomialNB\n",
    "from sklearn.neighbors import KNeighborsClassifier\n",
    "from sklearn.svm import SVC\n",
    "from sklearn.tree import DecisionTreeClassifier\n",
    "from sklearn.metrics import classification_report\n",
    "from sklearn.metrics import accuracy_score\n",
    "from sklearn.model_selection import cross_val_score\n",
    "from sklearn.model_selection import KFold\n",
    "from sklearn.model_selection import GridSearchCV\n",
    "from sklearn.ensemble import AdaBoostClassifier\n",
    "from sklearn.ensemble import RandomForestClassifier\n",
    "from sklearn.preprocessing import StandardScaler "
   ]
  },
  {
   "cell_type": "markdown",
   "metadata": {},
   "source": [
    "Importing data from a CSV file using built in read_csv function from pandas (pd) library"
   ]
  },
  {
   "cell_type": "code",
   "execution_count": 71,
   "metadata": {},
   "outputs": [],
   "source": [
    "train_data = pd.read_csv(\"https://raw.githubusercontent.com/MobiusYeeitus/Hateful-Meme-Detection/breakdown/files/df_c.csv\") \n",
    "#path will definitely be changed to a github-repo/local later"
   ]
  },
  {
   "cell_type": "markdown",
   "metadata": {},
   "source": [
    "Calling the object to visualize the object"
   ]
  },
  {
   "cell_type": "code",
   "execution_count": null,
   "metadata": {},
   "outputs": [],
   "source": [
    "train_data"
   ]
  },
  {
   "cell_type": "markdown",
   "metadata": {},
   "source": [
    "Example of read_csv and to_csv functions"
   ]
  },
  {
   "cell_type": "code",
   "execution_count": 54,
   "metadata": {},
   "outputs": [
    {
     "data": {
      "text/html": [
       "<div>\n",
       "<style scoped>\n",
       "    .dataframe tbody tr th:only-of-type {\n",
       "        vertical-align: middle;\n",
       "    }\n",
       "\n",
       "    .dataframe tbody tr th {\n",
       "        vertical-align: top;\n",
       "    }\n",
       "\n",
       "    .dataframe thead th {\n",
       "        text-align: right;\n",
       "    }\n",
       "</style>\n",
       "<table border=\"1\" class=\"dataframe\">\n",
       "  <thead>\n",
       "    <tr style=\"text-align: right;\">\n",
       "      <th></th>\n",
       "      <th>Unnamed: 0.1</th>\n",
       "      <th>Unnamed: 0</th>\n",
       "      <th>id</th>\n",
       "      <th>title</th>\n",
       "      <th>author</th>\n",
       "      <th>text</th>\n",
       "      <th>label</th>\n",
       "    </tr>\n",
       "  </thead>\n",
       "  <tbody>\n",
       "    <tr>\n",
       "      <th>151</th>\n",
       "      <td>151</td>\n",
       "      <td>151</td>\n",
       "      <td>151</td>\n",
       "      <td>Students At Black College Just Got Beaten And ...</td>\n",
       "      <td>Colin Taylor</td>\n",
       "      <td>Comments \\nLast night, Louisiana Senate candid...</td>\n",
       "      <td>1</td>\n",
       "    </tr>\n",
       "    <tr>\n",
       "      <th>336</th>\n",
       "      <td>336</td>\n",
       "      <td>336</td>\n",
       "      <td>336</td>\n",
       "      <td>Las frases más destacadas del debate de invest...</td>\n",
       "      <td>Redacción</td>\n",
       "      <td>Las frases más destacadas del debate de invest...</td>\n",
       "      <td>1</td>\n",
       "    </tr>\n",
       "    <tr>\n",
       "      <th>426</th>\n",
       "      <td>426</td>\n",
       "      <td>426</td>\n",
       "      <td>426</td>\n",
       "      <td>Lewandowski: Comey ’a Liar’ - Looking to Sign ...</td>\n",
       "      <td>Trent Baker</td>\n",
       "      <td>.@CLewandowski_: ”I think Jim Comey is in big ...</td>\n",
       "      <td>0</td>\n",
       "    </tr>\n",
       "    <tr>\n",
       "      <th>132</th>\n",
       "      <td>132</td>\n",
       "      <td>132</td>\n",
       "      <td>132</td>\n",
       "      <td>I Ignored Trump News for a Week. Here’s What I...</td>\n",
       "      <td>Farhad Manjoo</td>\n",
       "      <td>I spent last week ignoring President Trump. Al...</td>\n",
       "      <td>0</td>\n",
       "    </tr>\n",
       "    <tr>\n",
       "      <th>350</th>\n",
       "      <td>350</td>\n",
       "      <td>350</td>\n",
       "      <td>350</td>\n",
       "      <td>Trump Adviser Says Israeli Settlements ‘Not Il...</td>\n",
       "      <td>Middle East Eye</td>\n",
       "      <td>Trump Adviser Says Israeli Settlements ‘Not Il...</td>\n",
       "      <td>1</td>\n",
       "    </tr>\n",
       "    <tr>\n",
       "      <th>698</th>\n",
       "      <td>698</td>\n",
       "      <td>698</td>\n",
       "      <td>698</td>\n",
       "      <td>Re: Thank You FBI: The Clinton Email Investiga...</td>\n",
       "      <td>Tatiana Covington</td>\n",
       "      <td>Thank You FBI: The Clinton Email Investigati...</td>\n",
       "      <td>1</td>\n",
       "    </tr>\n",
       "    <tr>\n",
       "      <th>321</th>\n",
       "      <td>321</td>\n",
       "      <td>321</td>\n",
       "      <td>321</td>\n",
       "      <td>Trump Nominates Neil Gorsuch to the Supreme Co...</td>\n",
       "      <td>Julie Hirschfeld Davis and Mark Landler</td>\n",
       "      <td>WASHINGTON  —   President Trump on Tuesday nom...</td>\n",
       "      <td>0</td>\n",
       "    </tr>\n",
       "    <tr>\n",
       "      <th>865</th>\n",
       "      <td>865</td>\n",
       "      <td>865</td>\n",
       "      <td>865</td>\n",
       "      <td>Republicans, Wilders, Tillerson: Your Thursday...</td>\n",
       "      <td>Karen Zraick and Lisa Iaboni</td>\n",
       "      <td>(Want to get this briefing by email? Here’s th...</td>\n",
       "      <td>0</td>\n",
       "    </tr>\n",
       "    <tr>\n",
       "      <th>93</th>\n",
       "      <td>93</td>\n",
       "      <td>93</td>\n",
       "      <td>93</td>\n",
       "      <td>Whether it's John McCain, Mitt Romney or Donal...</td>\n",
       "      <td>Natural News Editors</td>\n",
       "      <td>Whether it's John McCain, Mitt Romney or Donal...</td>\n",
       "      <td>1</td>\n",
       "    </tr>\n",
       "    <tr>\n",
       "      <th>601</th>\n",
       "      <td>601</td>\n",
       "      <td>601</td>\n",
       "      <td>601</td>\n",
       "      <td>ICE Union Issues Final Warning to Voters</td>\n",
       "      <td>Bob Adelmann</td>\n",
       "      <td>Email \\nIn September the National ICE Council,...</td>\n",
       "      <td>1</td>\n",
       "    </tr>\n",
       "  </tbody>\n",
       "</table>\n",
       "</div>"
      ],
      "text/plain": [
       "     Unnamed: 0.1  Unnamed: 0   id  \\\n",
       "151           151         151  151   \n",
       "336           336         336  336   \n",
       "426           426         426  426   \n",
       "132           132         132  132   \n",
       "350           350         350  350   \n",
       "698           698         698  698   \n",
       "321           321         321  321   \n",
       "865           865         865  865   \n",
       "93             93          93   93   \n",
       "601           601         601  601   \n",
       "\n",
       "                                                 title  \\\n",
       "151  Students At Black College Just Got Beaten And ...   \n",
       "336  Las frases más destacadas del debate de invest...   \n",
       "426  Lewandowski: Comey ’a Liar’ - Looking to Sign ...   \n",
       "132  I Ignored Trump News for a Week. Here’s What I...   \n",
       "350  Trump Adviser Says Israeli Settlements ‘Not Il...   \n",
       "698  Re: Thank You FBI: The Clinton Email Investiga...   \n",
       "321  Trump Nominates Neil Gorsuch to the Supreme Co...   \n",
       "865  Republicans, Wilders, Tillerson: Your Thursday...   \n",
       "93   Whether it's John McCain, Mitt Romney or Donal...   \n",
       "601           ICE Union Issues Final Warning to Voters   \n",
       "\n",
       "                                      author  \\\n",
       "151                             Colin Taylor   \n",
       "336                                Redacción   \n",
       "426                              Trent Baker   \n",
       "132                            Farhad Manjoo   \n",
       "350                          Middle East Eye   \n",
       "698                        Tatiana Covington   \n",
       "321  Julie Hirschfeld Davis and Mark Landler   \n",
       "865             Karen Zraick and Lisa Iaboni   \n",
       "93                      Natural News Editors   \n",
       "601                             Bob Adelmann   \n",
       "\n",
       "                                                  text  label  \n",
       "151  Comments \\nLast night, Louisiana Senate candid...      1  \n",
       "336  Las frases más destacadas del debate de invest...      1  \n",
       "426  .@CLewandowski_: ”I think Jim Comey is in big ...      0  \n",
       "132  I spent last week ignoring President Trump. Al...      0  \n",
       "350  Trump Adviser Says Israeli Settlements ‘Not Il...      1  \n",
       "698    Thank You FBI: The Clinton Email Investigati...      1  \n",
       "321  WASHINGTON  —   President Trump on Tuesday nom...      0  \n",
       "865  (Want to get this briefing by email? Here’s th...      0  \n",
       "93   Whether it's John McCain, Mitt Romney or Donal...      1  \n",
       "601  Email \\nIn September the National ICE Council,...      1  "
      ]
     },
     "execution_count": 54,
     "metadata": {},
     "output_type": "execute_result"
    }
   ],
   "source": [
    "#example\n",
    "from pandas import read_csv\n",
    "example_data=read_csv(\"https://raw.githubusercontent.com/MobiusYeeitus/Hateful-Meme-Detection/breakdown/files/df.csv\") #read from web\n",
    "example_data.to_csv(\"D:/df.csv\") #save to local path\n",
    "example_data=read_csv(\"D:/df.csv\") #read from local path\n",
    "example_data.sample(10)"
   ]
  },
  {
   "cell_type": "markdown",
   "metadata": {},
   "source": [
    "Creates a list called 'text' and appends all the words in the dataset into the list"
   ]
  },
  {
   "cell_type": "code",
   "execution_count": 74,
   "metadata": {},
   "outputs": [],
   "source": [
    "text = []\n",
    "for i in example_data['text']:\n",
    "    text.append(i)"
   ]
  },
  {
   "cell_type": "markdown",
   "metadata": {},
   "source": [
    "Creates a matrix representation of the list 'text' based on One-Hot Encoding/Representation"
   ]
  },
  {
   "cell_type": "markdown",
   "metadata": {},
   "source": [
    "Topic to study -> One-Hot Representation"
   ]
  },
  {
   "cell_type": "code",
   "execution_count": 80,
   "metadata": {},
   "outputs": [],
   "source": [
    "tf_transfomer = TfidfVectorizer(stop_words='english',decode_error='ignore')\n",
    "X_train_counts_tf = tf_transfomer.fit_transform(text)\n",
    "scaler = StandardScaler(with_mean=False)\n",
    "x_train_counts_tf = scaler.fit_transform(X_train_counts_tf)"
   ]
  },
  {
   "cell_type": "markdown",
   "metadata": {},
   "source": [
    "Displays shape of 'X_train_counts_tf' matrix"
   ]
  },
  {
   "cell_type": "code",
   "execution_count": 82,
   "metadata": {},
   "outputs": [
    {
     "data": {
      "text/plain": [
       "(838, 39716)"
      ]
     },
     "execution_count": 82,
     "metadata": {},
     "output_type": "execute_result"
    }
   ],
   "source": [
    "X_train_counts_tf.shape"
   ]
  },
  {
   "cell_type": "code",
   "execution_count": 84,
   "metadata": {},
   "outputs": [],
   "source": [
    "train_cut = 8000\n",
    "num_folds = 10\n",
    "seed = 7\n",
    "scoring = 'accuracy'\n",
    "param_grid = {}\n",
    "param_grid['C'] = [0.1,0.2,0.3,0.5,0.8,1,5,13,15]\n",
    "param_grid['solver'] = ['newton-cg','lbfgs','liblinear','sag','saga']\n",
    "model = LogisticRegression(max_iter = 10000)\n",
    "kfold = KFold(n_splits=num_folds,random_state=seed,shuffle = True)\n",
    "grid = GridSearchCV(estimator=model, param_grid=param_grid, scoring=scoring, cv=kfold)\n",
    "grid_result = grid.fit(X=X_train_counts_tf,y=train_data['text'])\n",
    "print('Best : %s Using %s' % (grid_result.best_score_, grid_result.best_params_))\n",
    "param_grid = {}\n",
    "param_grid['alpha'] = [0.001,0.01,0.05,0.1,0.5,1,1.5,2]\n",
    "model = MultinomialNB()\n",
    "kfold = KFold(n_splits=num_folds,random_state=seed,shuffle = True)\n",
    "grid = GridSearchCV(estimator=model, param_grid=param_grid, scoring=scoring, cv=kfold)\n",
    "grid_result = grid.fit(X=X_train_counts_tf[:train_cut],y=train_data['text'])\n",
    "print('Best : %s Using %s' % (grid_result.best_score_, grid_result.best_params_))\n",
    "param_grid = {}\n",
    "param_grid['n_estimators'] = [10,50,100,150,200]\n",
    "param_grid['max_features'] = ['auto','sqrt','log2']\n",
    "param_grid['max_depth'] = [3,4,5,6,7,8,9,10]\n",
    "model = RandomForestClassifier()\n",
    "kfold = KFold(n_splits=num_folds,random_state=seed,shuffle = True)\n",
    "grid = GridSearchCV(estimator=model, param_grid=param_grid, scoring=scoring, cv=kfold)\n",
    "grid_result = grid.fit(X=X_train_counts_tf[:train_cut],y=train_data['text'])\n",
    "print('Best : %s Using %s' % (grid_result.best_score_, grid_result.best_params_))\n",
    "#SVM\n",
    "param_grid = {'C':[0.1,0.2,0.3,0.5,0.8,1,5,13,15,20]}\n",
    "model = SVC(max_iter =100000)\n",
    "kfold = KFold(n_splits=num_folds,random_state=seed,shuffle = True)\n",
    "grid = GridSearchCV(estimator=model, param_grid=param_grid, scoring=scoring, cv=kfold)\n",
    "grid_result = grid.fit(X=X_train_counts_tf,y=train_data['text'])\n",
    "print('Best : %s Using %s' % (grid_result.best_score_, grid_result.best_params_))\n",
    "#KNN\n",
    "param_grid = {}\n",
    "param_grid['n_neighbors'] = [3,5,10,20,30]\n",
    "param_grid['weights'] = ['uniform','distance']\n",
    "model = KNeighborsClassifier()\n",
    "kfold = KFold(n_splits=num_folds,random_state=seed,shuffle = True)\n",
    "grid = GridSearchCV(estimator=model, param_grid=param_grid, scoring=scoring, cv=kfold)\n",
    "grid_result = grid.fit(X=X_train_counts_tf[:train_cut],y=train_data['text'])\n",
    "print('Best : %s Using %s' % (grid_result.best_score_, grid_result.best_params_))"
   ]
  }
 ],
 "metadata": {
  "kernelspec": {
   "display_name": "Python 3",
   "language": "python",
   "name": "python3"
  },
  "language_info": {
   "codemirror_mode": {
    "name": "ipython",
    "version": 3
   },
   "file_extension": ".py",
   "mimetype": "text/x-python",
   "name": "python",
   "nbconvert_exporter": "python",
   "pygments_lexer": "ipython3",
   "version": "3.11.2"
  }
 },
 "nbformat": 4,
 "nbformat_minor": 2
}

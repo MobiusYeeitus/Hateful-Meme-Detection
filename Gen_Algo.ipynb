{
 "cells": [
  {
   "cell_type": "markdown",
   "metadata": {},
   "source": [
    "<h3>Genetic Algorithm</h3>\n",
    "\n",
    "Genetic algorithms simulate the process of natural selection [ is a mechanism of evolution that explains how populations of living organisms adapt and change over time. ]. In simpler words, they simulate 'survival of the fittest' among individuals of consecutive generations to solve a problem."
   ]
  },
  {
   "cell_type": "markdown",
   "metadata": {},
   "source": [
    "<h5>Libraries and global variables</h5>"
   ]
  },
  {
   "cell_type": "code",
   "execution_count": 29,
   "metadata": {},
   "outputs": [],
   "source": [
    "import random\n",
    "import math\n",
    "import logging\n",
    "import time\n",
    "\n",
    "from tqdm import trange,tqdm #visualizing the loops\n",
    "\n",
    "GLOBAL_CHROMOSOME_LENGTH=4\n",
    "GLOBAL_RANDINT_MIN=0\n",
    "GLOBAL_RANDINT_MAX=8\n",
    "GLOBAL_POP_LIMIT=16             #it is a X-X grid\n",
    "\n",
    "GLOBAL_MUTATOR_CHANCE=100\n",
    "GLOBAL_MUTATOR_RANGE=1000\n",
    "\n",
    "GLOBAL_EPOCH_COUNT=4\n",
    "GLOBAL_FITTING_DATA=[i for i in range(GLOBAL_CHROMOSOME_LENGTH)]"
   ]
  },
  {
   "cell_type": "markdown",
   "metadata": {},
   "source": [
    "<h4>Gene Class</h4>"
   ]
  },
  {
   "cell_type": "code",
   "execution_count": 30,
   "metadata": {},
   "outputs": [],
   "source": [
    "class Gene:\n",
    "    if True:\n",
    "        #Initializzation of stored variables\n",
    "        stored_chromosome_length=0\n",
    "        stored_randint_min=0            #used in mutator\n",
    "        stored_randint_max=0            #used in mutator\n",
    "        stored_gene_fitness_factor=9999\n",
    "\n",
    "        stored_parent1=0\n",
    "        stored_parent2=0\n",
    "\n",
    "        #Initialization of internal lists\n",
    "        chromosomes=[]\n",
    "\n",
    "    def __init__(self,fitting_data=GLOBAL_FITTING_DATA,input_list=[],\n",
    "                 chromosome_length=GLOBAL_CHROMOSOME_LENGTH,randint_min=GLOBAL_RANDINT_MIN,randint_max=GLOBAL_RANDINT_MAX,\n",
    "                 gene_generator='random',evaluator='default-evaluator',initial_eval=False): #constructor\n",
    "        self.chromosomes=[]\n",
    "        self.stored_chromosome_length=chromosome_length\n",
    "        self.stored_randint_min=randint_min\n",
    "        self.stored_randint_max=randint_max\n",
    "        match gene_generator: \n",
    "            case 'none':\n",
    "                pass\n",
    "            case 'random': #initializes the gene based on chromosome length and randint range\n",
    "                for i in range(chromosome_length):\n",
    "                    self.chromosomes.append(random.randint(randint_min,randint_max)) \n",
    "            case 'input':  #takes in an input list and assigns the list to the chromosomes and updates the chromosome length to match the input list\n",
    "                self.chromosomes=input_list\n",
    "                self.stored_chromosome_length=len(input_list)\n",
    "        if initial_eval:\n",
    "            try:\n",
    "                self.fitness_evaluation(fitting_data,evaluator=evaluator)\n",
    "            except:\n",
    "                pass\n",
    "    def crossover_with_gene(self,input_gene, #crosses over with another gene, uniform crossover, includes mutation\n",
    "                            crossover_method='cartesian-prod-random-uniform',\n",
    "                            mutate=True): \n",
    "        child=Gene(chromosome_length=self.stored_chromosome_length,gene_generator='')\n",
    "        match crossover_method:\n",
    "            case 'cartesian-prod-random-uniform': #50-50 gamba on every chromosome \n",
    "                for i in range(self.stored_chromosome_length):\n",
    "                    if bool(random.getrandbits(1)):\n",
    "                        child.chromosomes.append(self.chromosomes[i])\n",
    "                    else:\n",
    "                        child.chromosomes.append(input_gene.chromosomes[i])\n",
    "            case 'equate-cartesian-prod-random-uniform':\n",
    "                pass\n",
    "            case 'average-integer':\n",
    "                for i in range(self.stored_chromosome_length):\n",
    "                    child.chromosomes.append(int((self.chromosomes[i]+input_gene.chromosomes[i])/2))\n",
    "        child.random_mutator(mutate=mutate)\n",
    "        return child\n",
    "    def random_equation_go_brrr(self,input_gene, #BRRRRRR\n",
    "                                equation_target='minimize'): \n",
    "        equated_value=0\n",
    "        match equation_target:\n",
    "            case 'minimize':\n",
    "                \n",
    "                int(self.chromosomes[0])-int()\n",
    "\n",
    "    def random_mutator(self,mutate=True): #imitates mutation based on mutation chances \n",
    "        if mutate:\n",
    "            if random.randint(1,GLOBAL_MUTATOR_RANGE)<=GLOBAL_MUTATOR_CHANCE:\n",
    "                self.chromosomes[random.randint(0,self.stored_chromosome_length-1)]=random.randint(self.stored_randint_min,self.stored_randint_max)\n",
    "    def fitness_evaluation(self,fitting_data, #generates the fitness factor based on fitting_data\n",
    "                           evaluator='default-evaluator'): \n",
    "        match evaluator:\n",
    "            case 'default-evaluator':\n",
    "                self.stored_gene_fitness_factor=self.stored_chromosome_length\n",
    "                for i in range(self.stored_chromosome_length):\n",
    "                    if self.chromosomes[i]==fitting_data[i]:\n",
    "                        self.stored_gene_fitness_factor-=1\n",
    "        return self.stored_gene_fitness_factor\n",
    "    def display(self): #returns a string with the chromosomes and fitness factor as output\n",
    "        return str('Chromosomes: '+str(self.chromosomes)+' Fitness Factor: '+str(self.stored_gene_fitness_factor))\n"
   ]
  },
  {
   "cell_type": "markdown",
   "metadata": {},
   "source": [
    "<h4>Gene List Class</h4>\n",
    "<p>It is a 2D Square [AxA] matrix comprised of 'Gene's."
   ]
  },
  {
   "cell_type": "markdown",
   "metadata": {},
   "source": [
    "### Bug List\n",
    "---\n",
    "- #1 [Minor] In Gene_List_Eval, the parameter stop=False does not work\n",
    "\n",
    "- #2 [Minor] stored_generation is 1 higher than what it should be (?)\n",
    "\n",
    "- #3 [Major] stored_variables in Gene_List class have instancing issues \n"
   ]
  },
  {
   "cell_type": "markdown",
   "metadata": {},
   "source": [
    "#### #3\n",
    "##### Related to python's inherent behaviour regarding variables, https://stackoverflow.com/questions/986006/how-do-i-pass-a-variable-by-reference\n",
    "##### Only fixable by using mutable objects such as lists, good to know for the future.\n",
    "\n",
    "---\n",
    "\n",
    "> ``` python\n",
    "> GLOBAL_POP_LIMIT=16\n",
    "> class Gene_List:\n",
    ">    stored_pop_limit=0\n",
    ">    def __init__(self,pop_limit=GLOBAL_POP_LIMIT):\n",
    ">       self.stored_pop_limit=pop_limit\n",
    ">       self.Gene_List_Gen()\n",
    ">    def Gene_List_Gen(self,pop_limit=stored_pop_limit):\n",
    ">        print(pop_limit)\n",
    "> A=Gene_list(pop_limit=12)\n",
    "> ```\n",
    "\n",
    "> ``` python\n",
    "> 0\n",
    "> ```\n",
    "\n",
    "> ``` python\n",
    "> GLOBAL_POP_LIMIT=16\n",
    "> class Gene_List:\n",
    ">     stored_pop_limit=[0]\n",
    ">     def __init__(self,pop_limit=GLOBAL_POP_LIMIT):\n",
    ">         self.stored_pop_limit.clear()\n",
    ">         self.stored_pop_limit.append(pop_limit)\n",
    ">         self.Gene_List_Gen()\n",
    ">     def Gene_List_Gen(self,pop_limit=stored_pop_limit):\n",
    ">         print(pop_limit)\n",
    "> A=Gene_List(pop_limit=12)\n",
    "> ```\n",
    "\n",
    "> ``` python\n",
    "> [12]\n",
    "> ```"
   ]
  },
  {
   "cell_type": "markdown",
   "metadata": {},
   "source": [
    "##### To-Do List \n",
    "\n",
    "generators are stable so you procrastinating little shit go work on actually doing a simple fucking addition in an equation\\\n",
    "re: wtf am i doing\n",
    "\n"
   ]
  },
  {
   "cell_type": "code",
   "execution_count": null,
   "metadata": {},
   "outputs": [],
   "source": [
    "class Gene_List: \n",
    "    if True:\n",
    "        #Initialization of the logger\n",
    "        logger=logging.getLogger\n",
    "        \n",
    "        #Initialization of stored variables\n",
    "        stored_epoch_count=GLOBAL_EPOCH_COUNT\n",
    "        stored_current_epoch=0\n",
    "        stored_pop_limit=1\n",
    "        stored_chromosome_length=GLOBAL_CHROMOSOME_LENGTH\n",
    "        stored_randint_min=GLOBAL_RANDINT_MIN\n",
    "        stored_randint_max=GLOBAL_RANDINT_MAX\n",
    "        stored_generation=0\n",
    "        stored_logger_level=logging.DEBUG\n",
    "\n",
    "        #Initialization of preferred settings\n",
    "        preferred_gene_generator='random'\n",
    "        preferred_crossover_method='cartesian-prod-random-uniform'\n",
    "        preferred_crossover_prune_method='random-survivor'\n",
    "        preferred_evaluator='default-evaluator'\n",
    "\n",
    "        #Initialization of boolean variables\n",
    "        bool_stop=True\n",
    "        bool_verbose=False\n",
    "        bool_mutate=True\n",
    "        bool_initial_eval=False\n",
    "        bool_manual=False\n",
    "\n",
    "        bool_pcheck_safe=True\n",
    "\n",
    "        #Initialization of internal lists\n",
    "        fitting_data=[]\n",
    "        generation_list=[]\n",
    "        index_list=[]\n",
    "        gene_list=[]\n",
    "        \n",
    "    def __init__(self,fitting_data=GLOBAL_FITTING_DATA,epoch=GLOBAL_EPOCH_COUNT,pop_limit=GLOBAL_POP_LIMIT,\n",
    "                 chromosome_length=GLOBAL_CHROMOSOME_LENGTH,randint_min=GLOBAL_RANDINT_MIN,randint_max=GLOBAL_RANDINT_MAX,\n",
    "                 gene_generator=preferred_gene_generator,crossover_method=preferred_crossover_method,crossover_prune_method=preferred_crossover_prune_method,evaluator=preferred_evaluator,\n",
    "                 stop=bool_stop,verbose=bool_verbose,mutate=bool_mutate,initial_eval=bool_initial_eval,manual=bool_manual):\n",
    "        #Store Input Parameters\n",
    "        self.logger=self.Generate_Logger()\n",
    "        self.stored_epoch_count=epoch\n",
    "        self.stored_pop_limit=pop_limit\n",
    "        self.stored_chromosome_length=chromosome_length\n",
    "        self.stored_randint_min=randint_min\n",
    "        self.stored_randint_max=randint_max\n",
    "\n",
    "        self.preferred_gene_generator=gene_generator\n",
    "        self.preferred_crossover_method=crossover_method\n",
    "        self.preferred_crossover_prune_method=crossover_prune_method\n",
    "        self.preferred_evaluator=evaluator\n",
    "\n",
    "        self.bool_stop=stop\n",
    "        self.bool_verbose=verbose\n",
    "        self.bool_mutate=mutate\n",
    "        self.bool_initial_eval=initial_eval\n",
    "        self.bool_manual=manual\n",
    "\n",
    "        self.fitting_data=fitting_data\n",
    "        self.abcd=0\n",
    "        #Emptying Generated Lists\n",
    "        self.generation_list=[]\n",
    "        self.index_list=[]\n",
    "\n",
    "        self.Parameter_Checks()\n",
    "        \n",
    "        if self.bool_pcheck_safe:\n",
    "            self.gene_list=self.Gene_List_Gen(fitting_data=self.fitting_data,pop_limit=pop_limit,\n",
    "                                              chromosome_length=self.stored_chromosome_length,randint_min=self.stored_randint_min,randint_max=self.stored_randint_max,\n",
    "                                              gene_generator=self.preferred_gene_generator,evaluator=self.preferred_evaluator,\n",
    "                                              initial_eval=self.bool_initial_eval)\n",
    "            self.generation_list.append(self.gene_list)     #appends the initial gene list to the generation list, it is generation zero\n",
    "            if manual==False:\n",
    "                self.List_Iterator()\n",
    "        else:\n",
    "            self.logger.error('Parameter check error.')\n",
    "    def Generate_Logger(self): #Creates a logger for use\n",
    "        logging.basicConfig(filename='Gen_Algo.log',format='%(asctime)s - %(name)s - %(levelname)s: %(message)s',\n",
    "                            datefmt='%Y-%m-%d %H:%M:%S',filemode='w',level=self.stored_logger_level)\n",
    "        logger=logging.getLogger()\n",
    "        logger.info('Logger initialized.')\n",
    "        return logger\n",
    "    def Assign_Variables(self,pop_limit): #[Deprecated]\n",
    "        self.stored_pop_limit=pop_limit\n",
    "    def Parameter_Checks(self): #Checks Input Parameters for errors\n",
    "        if (self.stored_randint_max-self.stored_randint_min+1)<self.stored_chromosome_length:\n",
    "            self.logger.warning('Chromosome length greater than random range.')\n",
    "            self.bool_pcheck_safe=False\n",
    "        if self.stored_chromosome_length==0:\n",
    "            self.logger.warning('Chromosome length set to zero.')\n",
    "    def List_Iterator(self): #Auto Iterator\n",
    "        self.logger.info('List Iterator called')\n",
    "        self.stored_current_epoch=0\n",
    "        self.logger.debug('Epoch counter reset')\n",
    "        for i in trange(self.stored_epoch_count,desc='Epoch'):\n",
    "            if self.index_list==[] or self.bool_stop==False:                                                            #if no fit gene is found\n",
    "                self.generation_list.append(self.Gene_List_Cross(input_list=self.generation_list[i],pop_limit=self.stored_pop_limit,\n",
    "                                                                 crossover_method=self.preferred_crossover_method,crossover_prune_method=self.preferred_crossover_prune_method,\n",
    "                                                                 verbose=self.bool_verbose,mutate=self.bool_mutate))    #generate new generation\n",
    "                self.stored_generation+=1\n",
    "                self.Gene_List_Eval(self.generation_list[i],evaluator=self.preferred_evaluator,verbose=self.bool_verbose,stop=self.bool_stop)  \n",
    "                self.stored_current_epoch+=1                      #evaluate the new generation\n",
    "            if self.index_list!=[] and self.bool_stop==True:                                                         #if fit gene found\n",
    "                self.Gene_List_Viewer(self.generation_list[i],self.bool_verbose)                           #display fit gene\n",
    "                return                                                                     #end loop\n",
    "    def Gene_List_Gen(self,fitting_data=fitting_data,input_list=[],pop_limit=stored_pop_limit, #Gene List Generator [Initial] [Standalone+Iterator]\n",
    "                      chromosome_length=stored_chromosome_length,randint_min=stored_randint_min,randint_max=stored_randint_max,\n",
    "                      gene_generator=preferred_gene_generator,evaluator=preferred_evaluator,\n",
    "                      initial_eval=bool_initial_eval): \n",
    "        result=[]\n",
    "        temp=[]\n",
    "        self.logger.info('Generating gene list with pop_limit='+str(pop_limit)+\n",
    "                         ', chromosome_length='+str(chromosome_length)+', randint_min='+str(randint_min)+', randint_max='+str(randint_max)+\n",
    "                         ', gene_generator='+gene_generator+', evaluator='+evaluator+', initial_eval='+str(initial_eval))\n",
    "        match gene_generator:\n",
    "            case 'random':\n",
    "                for i in trange(pop_limit,desc='Generating initial genes [Random]'):\n",
    "                    temp=[]\n",
    "                    for j in range(pop_limit):\n",
    "                        temp.append(Gene(fitting_data=fitting_data,\n",
    "                                        chromosome_length=chromosome_length,randint_min=randint_min,randint_max=randint_max,\n",
    "                                        gene_generator=gene_generator,evaluator=evaluator,\n",
    "                                        initial_eval=initial_eval))\n",
    "                    result.append(temp)\n",
    "            case 'sequence':\n",
    "                print('Work in Progress')\n",
    "        self.logger.debug('Generation completed.')\n",
    "        return result\n",
    "    def Gene_List_Cross(self,input_list,pop_limit=stored_pop_limit, #Gene List Crossover Function [Standalone+Iterator]\n",
    "                        crossover_method=preferred_crossover_method,crossover_prune_method=preferred_crossover_prune_method,\n",
    "                        verbose=bool_verbose,mutate=bool_mutate): \n",
    "        result=[]\n",
    "        cross=[]\n",
    "        temp=[]\n",
    "        self.logger.info('Crossover using '+crossover_method+' on epoch '+str(self.stored_current_epoch)+' with pop_limit '+str(pop_limit)+' whereas stored is '+str(self.stored_pop_limit))\n",
    "        if verbose:\n",
    "            match crossover_method:\n",
    "                case 'cartesian-prod-random-uniform':\n",
    "                    ct_prod_vb='Crossover function executing [Cartesian]'\n",
    "                    for i in trange(len(input_list),desc=ct_prod_vb):\n",
    "                        for j in range(len(input_list)):\n",
    "                            temp=[]\n",
    "                            for k in range(len(input_list)):\n",
    "                                for l in range(len(input_list)):\n",
    "                                    temp.append(input_list[i][j].crossover_with_gene(input_list[k][l],mutate=mutate,crossover_method=crossover_method))\n",
    "                            cross.append(temp)\n",
    "                case 'equate-cartesian-prod-random-uniform': #deprecating\n",
    "                    eq_prod_vb='Crossover function executing [Cartesian Equate]'\n",
    "                    for i in trange(len(input_list),desc=eq_prod_vb):\n",
    "                        for j in range(len(input_list)):\n",
    "                            temp=[]\n",
    "                            for k in range(len(input_list)):\n",
    "                                for l in range(len(input_list)):\n",
    "                                    temp.append(input_list[i][j].crossover_with_gene(input_list[k][l],mutate=mutate,crossover_method=crossover_method))\n",
    "                            cross.append(temp)\n",
    "                case 'average-integer':\n",
    "                    avg_int_vb='Crossover function executing [Average]'\n",
    "                    for i in trange(len(input_list),desc=avg_int_vb):\n",
    "                        for j in range(len(input_list)):\n",
    "                            temp=[]\n",
    "                            for k in range(len(input_list)):\n",
    "                                for l in range(len(input_list)):\n",
    "                                    temp.append(input_list[i][j].crossover_with_gene(input_list[k][l],mutate=mutate,crossover_method=crossover_method))\n",
    "                            cross.append(temp)\n",
    "            match crossover_prune_method:\n",
    "                case 'random-survivor':\n",
    "                    rand_verbose='Selecting random survivors'\n",
    "                    surv_list=[]\n",
    "                    for i in trange(pop_limit,desc=rand_verbose):\n",
    "                        temp=[]\n",
    "                        for j in range(pop_limit):\n",
    "                            surv_x=random.randint(0,math.pow(pop_limit,2)-1)\n",
    "                            surv_y=random.randint(0,math.pow(pop_limit,2)-1)\n",
    "                            temp.append(cross[surv_x][surv_y])\n",
    "                        surv_list.append(temp)\n",
    "                    result=surv_list\n",
    "            return result\n",
    "        else:\n",
    "            match crossover_method:\n",
    "                case 'cartesian-prod-random-uniform':\n",
    "                    for i in range(len(input_list)):\n",
    "                        for j in range(len(input_list)):\n",
    "                            temp=[]\n",
    "                            for k in range(len(input_list)):\n",
    "                                for l in range(len(input_list)):\n",
    "                                    temp.append(input_list[i][j].crossover_with_gene(input_list[k][l],mutate=mutate,crossover_method=crossover_method))\n",
    "                            cross.append(temp)\n",
    "                case 'equate-cartesian-prod-random-uniform': #deprecating\n",
    "                    for i in range(len(input_list)):\n",
    "                        for j in range(len(input_list)):\n",
    "                            temp=[]\n",
    "                            for k in range(len(input_list)):\n",
    "                                for l in range(len(input_list)):\n",
    "                                    temp.append(input_list[i][j].crossover_with_gene(input_list[k][l],mutate=mutate,crossover_method=crossover_method))\n",
    "                            cross.append(temp)\n",
    "                case 'average-integer':\n",
    "                    for i in range(len(input_list)):\n",
    "                        for j in range(len(input_list)):\n",
    "                            temp=[]\n",
    "                            for k in range(len(input_list)):\n",
    "                                for l in range(len(input_list)):\n",
    "                                    temp.append(input_list[i][j].crossover_with_gene(input_list[k][l],mutate=mutate,crossover_method=crossover_method))\n",
    "                            cross.append(temp)\n",
    "            match crossover_prune_method:\n",
    "                case 'random-survivor':\n",
    "                    surv_list=[]\n",
    "                    for i in range(pop_limit):\n",
    "                        temp=[]\n",
    "                        for j in range(pop_limit):\n",
    "                            surv_x=random.randint(0,math.pow(pop_limit,2)-1)\n",
    "                            surv_y=random.randint(0,math.pow(pop_limit,2)-1)\n",
    "                            temp.append(cross[surv_x][surv_y])\n",
    "                        surv_list.append(temp)\n",
    "                    result=surv_list\n",
    "            return result\n",
    "    def Gene_List_Eval(self,input_list_1,input_list_2=[], #Gene List Fitness Evaluation Function [Standalone+Iterator]\n",
    "                       evaluator='default-evaluator',\n",
    "                       verbose=True,stop=False): \n",
    "        result=[]\n",
    "        temp=[]\n",
    "        self.logger.info('Evaluating with '+evaluator+' on epoch '+str(self.stored_current_epoch))\n",
    "        match evaluator:\n",
    "            case 'default-evaluator':\n",
    "                if verbose:\n",
    "                    eval_str='Evaluating genes [Default Evaluator]'\n",
    "                    for i in trange(len(input_list_1),desc=eval_str):\n",
    "                        for j in range(len(input_list_1[0])):\n",
    "                            if input_list_1[i][j].fitness_evaluation(self.fitting_data)==0:\n",
    "                                temp=[]\n",
    "                                temp.append(i)\n",
    "                                temp.append(j)\n",
    "                                result.append(temp)\n",
    "                                if stop:\n",
    "                                    self.index_list=result\n",
    "                                    return\n",
    "                    self.index_list=result\n",
    "                    pass\n",
    "                else:\n",
    "                    for i in range(len(input_list_1)):\n",
    "                        for j in range(len(input_list_1[0])):\n",
    "                            if input_list_1[i][j].fitness_evaluation(self.fitting_data)==0:\n",
    "                                temp=[]\n",
    "                                temp.append(i)\n",
    "                                temp.append(j)\n",
    "                                result.append(temp)\n",
    "                                if stop:\n",
    "                                    self.index_list=result\n",
    "                                    return\n",
    "                    self.index_list=result\n",
    "                    pass\n",
    "            case 'maximize':\n",
    "                max=[[0],[],[]]\n",
    "                if verbose:\n",
    "                    eval_str='Evaluating genes [Maximize]'\n",
    "                    for i in trange(len(input_list_1)):\n",
    "                        for j in range(len(input_list_1)):\n",
    "                            for k in range(len(input_list_2)):\n",
    "                                for l in range(len(input_list_2)):\n",
    "                                    if max[0][0]<(input_list_1[i][j].chromosomes[0]+input_list_2[k][l].chromosomes[0]):\n",
    "                                        max[1]=[]\n",
    "                                        max[2]=[]\n",
    "                                        max[1].append(i)\n",
    "                                        max[1].append(j)\n",
    "                                        max[2].append(k)\n",
    "                                        max[2].append(l)\n",
    "                                        max[0][0]=input_list_1[i][j].chromosomes[0]+input_list_2[k][l].chromosomes[0]\n",
    "                else:\n",
    "                    for i in range(len(input_list_1)):\n",
    "                        for j in range(len(input_list_1)):\n",
    "                            for k in range(len(input_list_2)):\n",
    "                                for l in range(len(input_list_2)):\n",
    "                                    if max[0][0]<(input_list_1[i][j].chromosomes[0]+input_list_2[k][l].chromosomes[0]):\n",
    "                                        max[1]=[]\n",
    "                                        max[2]=[]\n",
    "                                        max[1].append(i)\n",
    "                                        max[1].append(j)\n",
    "                                        max[2].append(k)\n",
    "                                        max[2].append(l)\n",
    "                                        max[0][0]=input_list_1[i][j].chromosomes[0]+input_list_2[k][l].chromosomes[0]\n",
    "                    return max\n",
    "    def Gene_List_Viewer(self,input_list,verbose=True): #Gene List Viewer [Standalone+Iterator Version]\n",
    "        if verbose:\n",
    "            for i in tqdm(self.index_list,desc='Displaying genes'):\n",
    "                print('Gene '+str(i)+' '+input_list[i[0]][i[1]].display())\n",
    "        else:\n",
    "            for i in self.index_list:\n",
    "                print('Gene '+str(i)+' '+input_list[i[0]][i[1]].display())"
   ]
  },
  {
   "cell_type": "code",
   "execution_count": 32,
   "metadata": {},
   "outputs": [
    {
     "name": "stderr",
     "output_type": "stream",
     "text": [
      "Generating initial genes [Random]: 100%|██████████| 10/10 [00:00<?, ?it/s]\n",
      "Generating initial genes [Random]: 100%|██████████| 3/3 [00:00<?, ?it/s]\n"
     ]
    }
   ],
   "source": [
    "X=Gene_List(pop_limit=10,chromosome_length=1,randint_min=1,randint_max=10,gene_generator='random',mutate=False,manual=True)\n",
    "Y=Gene_List(pop_limit=3,chromosome_length=1,randint_min=-10,randint_max=10,gene_generator='random',mutate=False,manual=True)"
   ]
  },
  {
   "cell_type": "code",
   "execution_count": 33,
   "metadata": {},
   "outputs": [
    {
     "data": {
      "text/plain": [
       "10"
      ]
     },
     "execution_count": 33,
     "metadata": {},
     "output_type": "execute_result"
    }
   ],
   "source": [
    "X.stored_pop_limit"
   ]
  },
  {
   "cell_type": "code",
   "execution_count": 34,
   "metadata": {},
   "outputs": [
    {
     "name": "stderr",
     "output_type": "stream",
     "text": [
      "Generating initial genes [Random]: 100%|██████████| 1/1 [00:00<?, ?it/s]\n"
     ]
    },
    {
     "data": {
      "text/plain": [
       "[[<__main__.Gene at 0x235188c14d0>]]"
      ]
     },
     "execution_count": 34,
     "metadata": {},
     "output_type": "execute_result"
    }
   ],
   "source": [
    "X.Gene_List_Gen()"
   ]
  },
  {
   "cell_type": "code",
   "execution_count": 35,
   "metadata": {},
   "outputs": [
    {
     "data": {
      "text/plain": [
       "[[20], [1, 6], [1, 2]]"
      ]
     },
     "execution_count": 35,
     "metadata": {},
     "output_type": "execute_result"
    }
   ],
   "source": [
    "X.Gene_List_Eval(X.generation_list[0],Y.generation_list[0],evaluator='maximize',verbose=False)"
   ]
  },
  {
   "cell_type": "code",
   "execution_count": 36,
   "metadata": {},
   "outputs": [],
   "source": [
    "# GList3=Gene_List(mutate=False,manual=True,gene_generator='none')\n",
    "\n",
    "# GList3.generation_list.append(GList1.Gene_List_Cross(GList2.generation_list[0],crossover_method='average-integer'))\n",
    "# GList3.generation_list"
   ]
  },
  {
   "cell_type": "code",
   "execution_count": 37,
   "metadata": {},
   "outputs": [
    {
     "name": "stderr",
     "output_type": "stream",
     "text": [
      "Generating initial genes [Random]: 100%|██████████| 12/12 [00:00<?, ?it/s]\n",
      "Epoch:   3%|▎         | 28/1000 [00:02<01:17, 12.61it/s]"
     ]
    },
    {
     "name": "stdout",
     "output_type": "stream",
     "text": [
      "Gene [8, 11] Chromosomes: [0, 1, 2, 3] Fitness Factor: 0\n"
     ]
    },
    {
     "name": "stderr",
     "output_type": "stream",
     "text": [
      "\n"
     ]
    }
   ],
   "source": [
    "GList4=Gene_List(epoch=1000,stop=True,pop_limit=12)"
   ]
  },
  {
   "cell_type": "code",
   "execution_count": 38,
   "metadata": {},
   "outputs": [
    {
     "data": {
      "text/plain": [
       "29"
      ]
     },
     "execution_count": 38,
     "metadata": {},
     "output_type": "execute_result"
    }
   ],
   "source": [
    "GList4.stored_generation"
   ]
  },
  {
   "cell_type": "markdown",
   "metadata": {},
   "source": []
  },
  {
   "cell_type": "markdown",
   "metadata": {},
   "source": [
    "<h6><i>Everything below is deprecated</i></h6>"
   ]
  },
  {
   "cell_type": "code",
   "execution_count": 39,
   "metadata": {},
   "outputs": [],
   "source": [
    "def GLG(): #Gene List Generator [Initial]\n",
    "    result=[]\n",
    "    temp=[]\n",
    "    for i in trange(GLOBAL_POP_LIMIT,desc='Generating genes'):\n",
    "        temp=[]\n",
    "        for j in range(GLOBAL_POP_LIMIT):\n",
    "            temp.append(Gene(rand_gene=True))\n",
    "        result.append(temp)\n",
    "    return result"
   ]
  },
  {
   "cell_type": "code",
   "execution_count": 40,
   "metadata": {},
   "outputs": [],
   "source": [
    "def GLCF(input_list): #Gene List Crossover Function\n",
    "    result=[]\n",
    "    temp=[]\n",
    "    for i in trange(len(input_list),desc='Crossover function executing'):\n",
    "        for j in range(len(input_list)):\n",
    "            temp=[]\n",
    "            for k in range(len(input_list)):\n",
    "                for l in range(len(input_list)):\n",
    "                    temp.append(input_list[i][j].crossover_with_gene(input_list[k][l]))\n",
    "            result.append(temp)\n",
    "    return result"
   ]
  },
  {
   "cell_type": "code",
   "execution_count": 41,
   "metadata": {},
   "outputs": [],
   "source": [
    "def GLFEF(input_list,fitting_data,stop=False): #Gene List Fitness Evaluation Function\n",
    "    result=[]\n",
    "    temp=[]\n",
    "    for i in trange(len(input_list),desc='Evaluating genes'):\n",
    "        for j in range(len(input_list[0])):\n",
    "            if input_list[i][j].fitness_evaluation(fitting_data)==0:\n",
    "                temp=[]\n",
    "                temp.append(i)\n",
    "                temp.append(j)\n",
    "                result.append(temp)\n",
    "                if stop:\n",
    "                    return result\n",
    "    return result"
   ]
  },
  {
   "cell_type": "code",
   "execution_count": 42,
   "metadata": {},
   "outputs": [],
   "source": [
    "def Gene_List_Viewer(input_list,index_list): #Gene List Viewer\n",
    "    for i in tqdm(index_list,desc='Displaying genes'):\n",
    "        print('Gene '+str(i)+' '+input_list[i[0]][i[1]].display())"
   ]
  },
  {
   "cell_type": "code",
   "execution_count": 43,
   "metadata": {},
   "outputs": [],
   "source": [
    "def GCLRS(input_list): #Gene Crossover List Random Sampler\n",
    "    len_list=len(input_list)\n",
    "    parent_1=random.randint(0,len_list-1)\n",
    "    parent_2=random.randint(0,len_list-1)\n",
    "    print('\\nParent 1 ['+str(parent_1)+']:'+input_list[parent_1][parent_1].display())\n",
    "    print('\\nParent 2 ['+str(parent_2)+']:'+input_list[parent_1][parent_1].display())\n",
    "    print('\\nChild 1 (P1xP2): '+input_list[parent_1][parent_2].display())\n",
    "    print('\\nChild 2 (P2xP1): '+input_list[parent_2][parent_1].display())"
   ]
  },
  {
   "cell_type": "code",
   "execution_count": 44,
   "metadata": {},
   "outputs": [
    {
     "name": "stderr",
     "output_type": "stream",
     "text": [
      "Generating genes:   0%|          | 0/16 [00:00<?, ?it/s]\n"
     ]
    },
    {
     "ename": "TypeError",
     "evalue": "Gene.__init__() got an unexpected keyword argument 'rand_gene'",
     "output_type": "error",
     "traceback": [
      "\u001b[1;31m---------------------------------------------------------------------------\u001b[0m",
      "\u001b[1;31mTypeError\u001b[0m                                 Traceback (most recent call last)",
      "Cell \u001b[1;32mIn[44], line 2\u001b[0m\n\u001b[0;32m      1\u001b[0m fitting_data\u001b[38;5;241m=\u001b[39m[x \u001b[38;5;28;01mfor\u001b[39;00m x \u001b[38;5;129;01min\u001b[39;00m \u001b[38;5;28mrange\u001b[39m(GLOBAL_CHROMOSOME_LENGTH)]\n\u001b[1;32m----> 2\u001b[0m list_of_genes\u001b[38;5;241m=\u001b[39m\u001b[43mGLG\u001b[49m\u001b[43m(\u001b[49m\u001b[43m)\u001b[49m\n\u001b[0;32m      3\u001b[0m first_gen\u001b[38;5;241m=\u001b[39mGLCF(list_of_genes)\n\u001b[0;32m      4\u001b[0m index_list\u001b[38;5;241m=\u001b[39mGLFEF(first_gen,fitting_data\u001b[38;5;241m=\u001b[39mfitting_data,stop\u001b[38;5;241m=\u001b[39m\u001b[38;5;28;01mTrue\u001b[39;00m)\n",
      "Cell \u001b[1;32mIn[39], line 7\u001b[0m, in \u001b[0;36mGLG\u001b[1;34m()\u001b[0m\n\u001b[0;32m      5\u001b[0m     temp\u001b[38;5;241m=\u001b[39m[]\n\u001b[0;32m      6\u001b[0m     \u001b[38;5;28;01mfor\u001b[39;00m j \u001b[38;5;129;01min\u001b[39;00m \u001b[38;5;28mrange\u001b[39m(GLOBAL_POP_LIMIT):\n\u001b[1;32m----> 7\u001b[0m         temp\u001b[38;5;241m.\u001b[39mappend(\u001b[43mGene\u001b[49m\u001b[43m(\u001b[49m\u001b[43mrand_gene\u001b[49m\u001b[38;5;241;43m=\u001b[39;49m\u001b[38;5;28;43;01mTrue\u001b[39;49;00m\u001b[43m)\u001b[49m)\n\u001b[0;32m      8\u001b[0m     result\u001b[38;5;241m.\u001b[39mappend(temp)\n\u001b[0;32m      9\u001b[0m \u001b[38;5;28;01mreturn\u001b[39;00m result\n",
      "\u001b[1;31mTypeError\u001b[0m: Gene.__init__() got an unexpected keyword argument 'rand_gene'"
     ]
    }
   ],
   "source": [
    "fitting_data=[x for x in range(GLOBAL_CHROMOSOME_LENGTH)]\n",
    "list_of_genes=GLG()\n",
    "first_gen=GLCF(list_of_genes)\n",
    "index_list=GLFEF(first_gen,fitting_data=fitting_data,stop=True)\n",
    "Gene_List_Viewer(first_gen,index_list)"
   ]
  },
  {
   "cell_type": "code",
   "execution_count": null,
   "metadata": {},
   "outputs": [],
   "source": [
    "run=True\n",
    "gene_list=GLG()\n",
    "generation_list=[]\n",
    "generation_list.append(gene_list)\n",
    "index_list=[]\n",
    "while run==False:\n",
    "    for i in trange(GLOBAL_EPOCH_COUNT):\n",
    "        if index_list==[]:\n",
    "            generation_list.append(GLCF(generation_list[i]))\n",
    "            index_list=GLFEF(generation_list[i],fitting_data,stop=True)\n",
    "        if index_list!=[]:\n",
    "            Gene_List_Viewer(generation_list[i],index_list)\n",
    "            run=False\n",
    "            break\n",
    "    run=False"
   ]
  },
  {
   "cell_type": "code",
   "execution_count": null,
   "metadata": {},
   "outputs": [],
   "source": [
    "GCLRS(first_gen)"
   ]
  },
  {
   "cell_type": "code",
   "execution_count": null,
   "metadata": {},
   "outputs": [],
   "source": [
    "class Gene_ID_Gen: #deprecated\n",
    "    gene_id_tracker=0\n",
    "    def generate(self):\n",
    "        gene_id=self.gene_id_tracker+1\n",
    "        self.gene_id_tracker=self.gene_id_tracker+1\n",
    "        return gene_id\n",
    "    def latest(self):\n",
    "        return self.gene_id_tracker\n",
    "\n",
    "ID_Gen=Gene_ID_Gen()"
   ]
  }
 ],
 "metadata": {
  "kernelspec": {
   "display_name": "Python 3",
   "language": "python",
   "name": "python3"
  },
  "language_info": {
   "codemirror_mode": {
    "name": "ipython",
    "version": 3
   },
   "file_extension": ".py",
   "mimetype": "text/x-python",
   "name": "python",
   "nbconvert_exporter": "python",
   "pygments_lexer": "ipython3",
   "version": "3.11.2"
  }
 },
 "nbformat": 4,
 "nbformat_minor": 2
}

{
 "cells": [
  {
   "cell_type": "markdown",
   "metadata": {},
   "source": [
    "<h3>Genetic Algorithm</h3>\n",
    "\n",
    "Genetic algorithms simulate the process of natural selection [ is a mechanism of evolution that explains how populations of living organisms adapt and change over time. ]. In simpler words, they simulate 'survival of the fittest' among individuals of consecutive generations to solve a problem."
   ]
  },
  {
   "cell_type": "markdown",
   "metadata": {},
   "source": [
    "<h5>Libraries and variables</h5>"
   ]
  },
  {
   "cell_type": "code",
   "execution_count": 1,
   "metadata": {},
   "outputs": [],
   "source": [
    "import random\n",
    "import math\n",
    "\n",
    "from tqdm import trange,tqdm #visualizing the loops\n",
    "\n",
    "GLOBAL_CHROMOSOME_LENGTH=6\n",
    "GLOBAL_RANDINT_MIN=0\n",
    "GLOBAL_RANDINT_MAX=5\n",
    "GLOBAL_POP_LIMIT=40             #it is a X-X grid\n",
    "\n",
    "GLOBAL_MUTATOR_CHANCE=10\n",
    "GLOBAL_MUTATOR_RANGE=1000\n",
    "\n",
    "GLOBAL_EPOCH_COUNT=4\n",
    "GLOBAL_FITTING_DATA=[i for i in range(GLOBAL_CHROMOSOME_LENGTH)]"
   ]
  },
  {
   "cell_type": "markdown",
   "metadata": {},
   "source": [
    "<h5>Gene Class Creation</h5>"
   ]
  },
  {
   "cell_type": "code",
   "execution_count": 2,
   "metadata": {},
   "outputs": [],
   "source": [
    "class Gene:\n",
    "    chromosomes=[]\n",
    "    saved_chromosome_length=0\n",
    "    saved_randint_min=0\n",
    "    saved_randint_max=0\n",
    "    fitness_factor=9999\n",
    "    def __init__(self,fitting_data=GLOBAL_FITTING_DATA,\n",
    "                 chromosome_length=GLOBAL_CHROMOSOME_LENGTH,randint_min=GLOBAL_RANDINT_MIN,randint_max=GLOBAL_RANDINT_MAX,\n",
    "                 rand_gene=True,initial_eval=False): #constructor\n",
    "        self.chromosomes=[]\n",
    "        self.saved_chromosome_length=chromosome_length\n",
    "        self.saved_randint_min=randint_min\n",
    "        self.saved_randint_max=randint_max\n",
    "        if rand_gene:\n",
    "            self.create_random_gene(chromosome_length,randint_min,randint_max)\n",
    "            if initial_eval:\n",
    "                self.fitness_evaluation(fitting_data)\n",
    "        pass    \n",
    "    def create_random_gene(self,chromosome_length,randint_min,randint_max): #initializes the gene based on chromosome length and randint range\n",
    "        for i in range(chromosome_length):\n",
    "            self.chromosomes.append(random.randint(randint_min,randint_max))\n",
    "        pass\n",
    "    def crossover_with_gene(self,input_gene,mutate=True): #crosses over with another gene, uniform crossover, includes mutation\n",
    "        child=Gene(chromosome_length=self.saved_chromosome_length,rand_gene=False)\n",
    "        for i in range(self.saved_chromosome_length):\n",
    "            if bool(random.getrandbits(1)):\n",
    "                child.chromosomes.append(self.chromosomes[i])\n",
    "            else:\n",
    "                child.chromosomes.append(input_gene.chromosomes[i])\n",
    "        child.random_mutator(mutate)\n",
    "        return child\n",
    "    def equate_with_gene(self,input_gene,mutate=False): #equates over an equation with another gene, includes mutation\n",
    "        child=Gene(chromosome_length=self.saved_chromosome_length,rand_gene=False)\n",
    "        for i in range(self.saved_chromosome_length):\n",
    "            child.chromosomes.append(int(self.chromosomes[i])+int(input_gene.chromosomes[i])) #equation parser goes here\n",
    "        child.random_mutator(mutate)\n",
    "        return child\n",
    "    def random_mutator(self,mutate): #imitates mutation based on mutation chances \n",
    "        if mutate:\n",
    "            if random.randint(1,GLOBAL_MUTATOR_RANGE)<=GLOBAL_MUTATOR_CHANCE:\n",
    "                self.chromosomes[random.randint(0,self.saved_chromosome_length-1)]=random.randint(self.saved_randint_min,self.saved_randint_max)\n",
    "    def fitness_evaluation(self,fitting_data): #generates the fitness factor based on fitting_data\n",
    "        self.fitness_factor=self.saved_chromosome_length\n",
    "        for i in range(self.saved_chromosome_length):\n",
    "            if self.chromosomes[i]==fitting_data[i]:\n",
    "                self.fitness_factor-=1\n",
    "        return self.fitness_factor\n",
    "    def display(self): #returns a string with the chromosomes and fitness factor as output\n",
    "        return str('Chromosomes: '+str(self.chromosomes)+' Fitness Factor: '+str(self.fitness_factor))\n"
   ]
  },
  {
   "cell_type": "markdown",
   "metadata": {},
   "source": [
    "<h5>Gene List Class</h5>"
   ]
  },
  {
   "cell_type": "code",
   "execution_count": 3,
   "metadata": {},
   "outputs": [],
   "source": [
    "class Gene_List: #WIP\n",
    "    #initialization of lists\n",
    "    fitting_data=[]\n",
    "    generation_list=[]\n",
    "    index_list=[]\n",
    "    gene_list=[]\n",
    "    \n",
    "    def __init__(self,fitting_data=GLOBAL_FITTING_DATA,epoch=GLOBAL_EPOCH_COUNT,pop_limit=GLOBAL_POP_LIMIT,\n",
    "                 chromosome_length=GLOBAL_CHROMOSOME_LENGTH,randint_min=GLOBAL_RANDINT_MIN,randint_max=GLOBAL_RANDINT_MAX,\n",
    "                 crossover_method='cartesian_prod',crossover_prune_method='random_survivor',\n",
    "                 stop=True,verbose=True,mutate=True,rand_gene=True,initial_eval=True,manual=False):\n",
    "        self.fitting_data=fitting_data\n",
    "        self.generation_list=[]                         #emptying\n",
    "        self.index_list=[]                              #emptying\n",
    "        self.gene_list=self.Gene_List_Gen(pop_limit=pop_limit,                      #generate initial gene list [Square]\n",
    "                                          chromosome_length=chromosome_length,randint_min=randint_min,randint_max=randint_max,\n",
    "                                          rand_gene=rand_gene,initial_eval=initial_eval)             \n",
    "        self.generation_list.append(self.gene_list)     #appends the initial gene list to the generation list, it is generation zero\n",
    "        if manual==False:\n",
    "            self.List_Iterator(stop,epoch,verbose,crossover_method,crossover_prune_method,pop_limit,mutate)                            #calls the auto iterator\n",
    "        pass\n",
    "    def List_Iterator(self,stop,epoch,verbose,crossover_method,crossover_prune_method,pop_limit,mutate): #Auto Iterator\n",
    "        for i in trange(epoch,desc='Epoch'):\n",
    "            if self.index_list==[] or stop==False:                                                             #if no fit gene is found\n",
    "                self.generation_list.append(self.Gene_List_Cross(input_list=self.generation_list[i],pop_limit=pop_limit,\n",
    "                                                                 crossover_method=crossover_method,crossover_prune_method=crossover_prune_method,\n",
    "                                                                 verbose=verbose,mutate=mutate))    #generate new generation\n",
    "                self.Gene_List_Eval_I(self.generation_list[i],verbose,stop)                        #evaluate the new generation\n",
    "                if self.index_list!=[]:                                                         #if fit gene found\n",
    "                    self.GLV(self.generation_list[i],self.index_list)                           #display fit gene\n",
    "                    return                                                                     #end loop\n",
    "    def Gene_List_Gen(self,pop_limit=GLOBAL_POP_LIMIT, #Gene List Generator [Initial] [Standalone+Iterator]\n",
    "                      chromosome_length=GLOBAL_CHROMOSOME_LENGTH,randint_min=GLOBAL_RANDINT_MIN,randint_max=GLOBAL_RANDINT_MAX,\n",
    "                      rand_gene=True,initial_eval=False): \n",
    "        result=[]\n",
    "        temp=[]\n",
    "        for i in trange(pop_limit,desc='Generating genes'):\n",
    "            temp=[]\n",
    "            for j in range(pop_limit):\n",
    "                temp.append(Gene(fitting_data=self.fitting_data,\n",
    "                                 chromosome_length=chromosome_length,randint_min=randint_min,randint_max=randint_max,\n",
    "                                 rand_gene=rand_gene,initial_eval=initial_eval))\n",
    "            result.append(temp)\n",
    "        return result\n",
    "    def Gene_List_Cross(self,input_list,pop_limit=GLOBAL_POP_LIMIT, #Gene List Crossover Function [Standalone+Iterator]\n",
    "                        crossover_method='cartesian_prod',crossover_prune_method='random_survivor',\n",
    "                        verbose=True,mutate=True): \n",
    "        result=[]\n",
    "        cross=[]\n",
    "        temp=[]\n",
    "        if verbose:\n",
    "            cross_verbose='Crossover function executing'\n",
    "            rand_verbose='Selecting random survivors'\n",
    "            if crossover_method=='cartesian_prod':\n",
    "                for i in trange(len(input_list),desc=cross_verbose):\n",
    "                    for j in range(len(input_list)):\n",
    "                        temp=[]\n",
    "                        for k in range(len(input_list)):\n",
    "                            for l in range(len(input_list)):\n",
    "                                temp.append(input_list[i][j].crossover_with_gene(input_list[k][l],mutate))\n",
    "                        cross.append(temp)\n",
    "            if crossover_method=='equate-cartesian_prod':\n",
    "                for i in trange(len(input_list),desc=cross_verbose):\n",
    "                    for j in range(len(input_list)):\n",
    "                        temp=[]\n",
    "                        for k in range(len(input_list)):\n",
    "                            for l in range(len(input_list)):\n",
    "                                temp.append(input_list[i][j].equate_with_gene(input_list[k][l],mutate))\n",
    "                        cross.append(temp)\n",
    "            if crossover_prune_method=='random_survivor':\n",
    "                surv_list=[]\n",
    "                for i in trange(pop_limit,desc=rand_verbose):\n",
    "                    temp=[]\n",
    "                    for j in range(pop_limit):\n",
    "                        surv_x=random.randint(0,math.pow(pop_limit,2)-1)\n",
    "                        surv_y=random.randint(0,math.pow(pop_limit,2)-1)\n",
    "                        temp.append(cross[surv_x][surv_y])\n",
    "                    surv_list.append(temp)\n",
    "                result=surv_list\n",
    "            return result\n",
    "        else:\n",
    "            if crossover_method=='cartesian_prod':\n",
    "                for i in range(len(input_list)):\n",
    "                    for j in range(len(input_list)):\n",
    "                        temp=[]\n",
    "                        for k in range(len(input_list)):\n",
    "                            for l in range(len(input_list)):\n",
    "                                temp.append(input_list[i][j].crossover_with_gene(input_list[k][l],mutate))\n",
    "                        cross.append(temp)\n",
    "            if crossover_method=='equate-cartesian_prod':\n",
    "                for i in range(len(input_list)):\n",
    "                    for j in range(len(input_list)):\n",
    "                        temp=[]\n",
    "                        for k in range(len(input_list)):\n",
    "                            for l in range(len(input_list)):\n",
    "                                temp.append(input_list[i][j].equate_with_gene(input_list[k][l],mutate))\n",
    "                        cross.append(temp)\n",
    "            if crossover_prune_method=='random_survivor':\n",
    "                surv_list=[]\n",
    "                for i in range(pop_limit):\n",
    "                    temp=[]\n",
    "                    for j in range(pop_limit):\n",
    "                        surv_x=random.randint(0,math.pow(pop_limit,2)-1)\n",
    "                        surv_y=random.randint(0,math.pow(pop_limit,2)-1)\n",
    "                        temp.append(cross[surv_x][surv_y])\n",
    "                    surv_list.append(temp)\n",
    "                result=surv_list\n",
    "            return result\n",
    "    def Gene_List_Eval(self,input_list, #Gene List Fitness Evaluation Function [Standalone+Iterator]\n",
    "                       verbose=True,stop=False): \n",
    "        result=[]\n",
    "        temp=[]\n",
    "        if verbose:\n",
    "            eval_str='Evaluating genes'\n",
    "            for i in trange(len(input_list),desc=eval_str):\n",
    "                for j in range(len(input_list[0])):\n",
    "                    if input_list[i][j].fitness_evaluation(self.fitting_data)==0:\n",
    "                        temp=[]\n",
    "                        temp.append(i)\n",
    "                        temp.append(j)\n",
    "                        result.append(temp)\n",
    "                        if stop:\n",
    "                            self.index_list=result\n",
    "                            return\n",
    "            self.index_list=result\n",
    "            pass\n",
    "        else:\n",
    "            for i in range(len(input_list)):\n",
    "                for j in range(len(input_list[0])):\n",
    "                    if input_list[i][j].fitness_evaluation(self.fitting_data)==0:\n",
    "                        temp=[]\n",
    "                        temp.append(i)\n",
    "                        temp.append(j)\n",
    "                        result.append(temp)\n",
    "                        if stop:\n",
    "                            self.index_list=result\n",
    "                            return\n",
    "            self.index_list=result\n",
    "            pass\n",
    "    def Gene_List_Viewer(self): #Gene List Viewer [Standalone]\n",
    "        for i in tqdm(self.index_list,desc='Displaying genes'):\n",
    "            print('Gene '+str(i)+' '+self.gene_list[i[0]][i[1]].display())\n",
    "    def GLV(self,input_list,index_list): #Gene List Viewer [Iterator Version]\n",
    "        for i in tqdm(self.index_list,desc='Displaying genes'):\n",
    "            print('Gene '+str(i)+' '+input_list[i[0]][i[1]].display())\n",
    "    def GLCEF(self,input_list,stop=False): #Gene List Crossover & Evaluation Function [Iterator Version] [Generation Generator] [Deprecated]\n",
    "        result=[]\n",
    "        temp=[]\n",
    "        for i in trange(len(input_list),desc='Crossover & Evaluation function executing'):\n",
    "            for j in range(len(input_list)):\n",
    "                temp=[]\n",
    "                for k in range(len(input_list)):\n",
    "                    for l in range(len(input_list)):\n",
    "                        child=input_list[i][j].crossover_with_gene(input_list[k][l])\n",
    "                        temp.append(child)\n",
    "                        child.fitness_evaluation(self.fitting_data)\n",
    "                        if child.fitness_factor==0:\n",
    "                            temp2=[]\n",
    "                            temp2.append(i)\n",
    "                            temp2.append(j)\n",
    "                            self.index_list.append(temp2)\n",
    "                            if stop:\n",
    "                                pass\n",
    "                                \n",
    "                result.append(temp)\n",
    "        return result\n",
    "    def Gene_List_Cross_I(self,input_list,verbose,crossover_prune_method,pop_limit,mutate): #Gene List Crossover Function [Iterator Version] [Deprecating]\n",
    "        result=[]\n",
    "        cross=[]\n",
    "        temp=[]\n",
    "        if verbose:\n",
    "            cross_verbose='Crossover function executing'\n",
    "            rand_verbose='Selecting random survivors'\n",
    "            for i in trange(len(input_list),desc=cross_verbose):\n",
    "                for j in range(len(input_list)):\n",
    "                    temp=[]\n",
    "                    for k in range(len(input_list)):\n",
    "                        for l in range(len(input_list)):\n",
    "                            temp.append(input_list[i][j].crossover_with_gene(input_list[k][l],mutate))\n",
    "                    cross.append(temp)\n",
    "            if crossover_prune_method=='random_survivor':\n",
    "                surv_list=[]\n",
    "                for i in trange(pop_limit,desc=rand_verbose):\n",
    "                    temp=[]\n",
    "                    for j in range(pop_limit):\n",
    "                        surv_x=random.randint(0,math.pow(pop_limit,2)-1)\n",
    "                        surv_y=random.randint(0,math.pow(pop_limit,2)-1)\n",
    "                        temp.append(cross[surv_x][surv_y])\n",
    "                    surv_list.append(temp)\n",
    "                result=surv_list\n",
    "            return result\n",
    "        else: #verbose=False\n",
    "            for i in range(len(input_list)):\n",
    "                for j in range(len(input_list)):\n",
    "                    temp=[]\n",
    "                    for k in range(len(input_list)):\n",
    "                        for l in range(len(input_list)):\n",
    "                            temp.append(input_list[i][j].crossover_with_gene(input_list[k][l],mutate))\n",
    "                    cross.append(temp)\n",
    "            if crossover_prune_method=='random_survivor':\n",
    "                surv_list=[]\n",
    "                for i in range(pop_limit):\n",
    "                    temp=[]\n",
    "                    for j in range(pop_limit):\n",
    "                        surv_x=random.randint(0,math.pow(pop_limit,2)-1)\n",
    "                        surv_y=random.randint(0,math.pow(pop_limit,2)-1)\n",
    "                        temp.append(cross[surv_x][surv_y])\n",
    "                    surv_list.append(temp)\n",
    "                result=surv_list\n",
    "            return result\n",
    "    def Gene_List_Eval_I(self,input_list,verbose,stop): #Gene List Fitness Evaluation Function [Iterator Version] [Deprecating]\n",
    "        result=[]\n",
    "        temp=[]\n",
    "        if verbose:\n",
    "            eval_str='Evaluating genes'\n",
    "            for i in trange(len(input_list),desc=eval_str):\n",
    "                for j in range(len(input_list[0])):\n",
    "                    if input_list[i][j].fitness_evaluation(self.fitting_data)==0:\n",
    "                        temp=[]\n",
    "                        temp.append(i)\n",
    "                        temp.append(j)\n",
    "                        result.append(temp)\n",
    "                        if stop:\n",
    "                            self.index_list=result\n",
    "                            return\n",
    "            self.index_list=result\n",
    "            pass\n",
    "        else:\n",
    "            for i in range(len(input_list)):\n",
    "                for j in range(len(input_list[0])):\n",
    "                    if input_list[i][j].fitness_evaluation(self.fitting_data)==0:\n",
    "                        temp=[]\n",
    "                        temp.append(i)\n",
    "                        temp.append(j)\n",
    "                        result.append(temp)\n",
    "                        if stop:\n",
    "                            self.index_list=result\n",
    "                            return\n",
    "            self.index_list=result\n",
    "            pass"
   ]
  },
  {
   "cell_type": "code",
   "execution_count": 4,
   "metadata": {},
   "outputs": [
    {
     "name": "stderr",
     "output_type": "stream",
     "text": [
      "Generating genes: 100%|██████████| 4/4 [00:00<00:00, 4000.29it/s]\n",
      "Generating genes: 100%|██████████| 4/4 [00:00<00:00, 3999.34it/s]\n"
     ]
    }
   ],
   "source": [
    "GList=Gene_List(manual=True,chromosome_length=1,randint_min=1,randint_max=10,rand_gene=True,pop_limit=4,mutate=False,initial_eval=False)\n",
    "GList2=Gene_List(manual=True,chromosome_length=1,randint_min=-10,randint_max=10,rand_gene=True,pop_limit=4,mutate=False,initial_eval=False)"
   ]
  },
  {
   "cell_type": "code",
   "execution_count": 5,
   "metadata": {},
   "outputs": [
    {
     "name": "stderr",
     "output_type": "stream",
     "text": [
      "Crossover function executing: 100%|██████████| 4/4 [00:00<?, ?it/s]\n",
      "Selecting random survivors: 100%|██████████| 4/4 [00:00<?, ?it/s]\n"
     ]
    },
    {
     "data": {
      "text/plain": [
       "[[<__main__.Gene at 0x1baff343c50>,\n",
       "  <__main__.Gene at 0x1baff341f50>,\n",
       "  <__main__.Gene at 0x1baff203c10>,\n",
       "  <__main__.Gene at 0x1baff221d10>],\n",
       " [<__main__.Gene at 0x1baff226890>,\n",
       "  <__main__.Gene at 0x1baff220410>,\n",
       "  <__main__.Gene at 0x1baff2007d0>,\n",
       "  <__main__.Gene at 0x1baff342290>],\n",
       " [<__main__.Gene at 0x1baff220250>,\n",
       "  <__main__.Gene at 0x1baff2008d0>,\n",
       "  <__main__.Gene at 0x1baff1d21d0>,\n",
       "  <__main__.Gene at 0x1baff1ce6d0>],\n",
       " [<__main__.Gene at 0x1baff200a90>,\n",
       "  <__main__.Gene at 0x1baff227050>,\n",
       "  <__main__.Gene at 0x1baff223450>,\n",
       "  <__main__.Gene at 0x1baff3419d0>]]"
      ]
     },
     "execution_count": 5,
     "metadata": {},
     "output_type": "execute_result"
    }
   ],
   "source": [
    "GList.Gene_List_Cross(GList2.generation_list[0],mutate=False,pop_limit=4)"
   ]
  },
  {
   "cell_type": "code",
   "execution_count": 6,
   "metadata": {},
   "outputs": [
    {
     "name": "stderr",
     "output_type": "stream",
     "text": [
      "Generating genes: 100%|██████████| 40/40 [00:00<00:00, 39993.36it/s]\n"
     ]
    }
   ],
   "source": [
    "GList3=Gene_List(manual=True,rand_gene=False)"
   ]
  },
  {
   "cell_type": "code",
   "execution_count": 7,
   "metadata": {},
   "outputs": [],
   "source": [
    "GList3.generation_list.append(GList.Gene_List_Cross(GList2.generation_list[0],mutate=False,pop_limit=4,crossover_method='equate-cartesian_prod',verbose=False))"
   ]
  },
  {
   "cell_type": "code",
   "execution_count": 9,
   "metadata": {},
   "outputs": [
    {
     "data": {
      "text/plain": [
       "1"
      ]
     },
     "execution_count": 9,
     "metadata": {},
     "output_type": "execute_result"
    }
   ],
   "source": [
    "GList3.generation_list[1][0][0].chromosomes[0]"
   ]
  },
  {
   "cell_type": "code",
   "execution_count": null,
   "metadata": {},
   "outputs": [],
   "source": []
  },
  {
   "cell_type": "code",
   "execution_count": 10,
   "metadata": {},
   "outputs": [
    {
     "name": "stderr",
     "output_type": "stream",
     "text": [
      "Generating genes: 100%|██████████| 40/40 [00:00<00:00, 6671.39it/s]\n",
      "Displaying genes: 100%|██████████| 1/1 [00:00<?, ?it/s]\n",
      "Epoch:   5%|▌         | 5/100 [00:39<12:30,  7.90s/it]"
     ]
    },
    {
     "name": "stdout",
     "output_type": "stream",
     "text": [
      "Gene [18, 7] Chromosomes: [0, 1, 2, 3, 4, 5] Fitness Factor: 0\n"
     ]
    },
    {
     "name": "stderr",
     "output_type": "stream",
     "text": [
      "\n"
     ]
    }
   ],
   "source": [
    "GList4=Gene_List(epoch=100,verbose=False)"
   ]
  },
  {
   "cell_type": "markdown",
   "metadata": {},
   "source": []
  },
  {
   "cell_type": "code",
   "execution_count": null,
   "metadata": {},
   "outputs": [],
   "source": []
  },
  {
   "cell_type": "markdown",
   "metadata": {},
   "source": [
    "<h6><i>Everything below is deprecated</i></h6>"
   ]
  },
  {
   "cell_type": "code",
   "execution_count": null,
   "metadata": {},
   "outputs": [],
   "source": [
    "def GLG(): #Gene List Generator [Initial]\n",
    "    result=[]\n",
    "    temp=[]\n",
    "    for i in trange(GLOBAL_POP_LIMIT,desc='Generating genes'):\n",
    "        temp=[]\n",
    "        for j in range(GLOBAL_POP_LIMIT):\n",
    "            temp.append(Gene(rand_gene=True))\n",
    "        result.append(temp)\n",
    "    return result"
   ]
  },
  {
   "cell_type": "code",
   "execution_count": null,
   "metadata": {},
   "outputs": [],
   "source": [
    "def GLCF(input_list): #Gene List Crossover Function\n",
    "    result=[]\n",
    "    temp=[]\n",
    "    for i in trange(len(input_list),desc='Crossover function executing'):\n",
    "        for j in range(len(input_list)):\n",
    "            temp=[]\n",
    "            for k in range(len(input_list)):\n",
    "                for l in range(len(input_list)):\n",
    "                    temp.append(input_list[i][j].crossover_with_gene(input_list[k][l]))\n",
    "            result.append(temp)\n",
    "    return result"
   ]
  },
  {
   "cell_type": "code",
   "execution_count": null,
   "metadata": {},
   "outputs": [],
   "source": [
    "def GLFEF(input_list,fitting_data,stop=False): #Gene List Fitness Evaluation Function\n",
    "    result=[]\n",
    "    temp=[]\n",
    "    for i in trange(len(input_list),desc='Evaluating genes'):\n",
    "        for j in range(len(input_list[0])):\n",
    "            if input_list[i][j].fitness_evaluation(fitting_data)==0:\n",
    "                temp=[]\n",
    "                temp.append(i)\n",
    "                temp.append(j)\n",
    "                result.append(temp)\n",
    "                if stop:\n",
    "                    return result\n",
    "    return result"
   ]
  },
  {
   "cell_type": "code",
   "execution_count": null,
   "metadata": {},
   "outputs": [],
   "source": [
    "def GLV(input_list,index_list): #Gene List Viewer\n",
    "    for i in tqdm(index_list,desc='Displaying genes'):\n",
    "        print('Gene '+str(i)+' '+input_list[i[0]][i[1]].display())"
   ]
  },
  {
   "cell_type": "code",
   "execution_count": null,
   "metadata": {},
   "outputs": [],
   "source": [
    "def GCLRS(input_list): #Gene Crossover List Random Sampler\n",
    "    len_list=len(input_list)\n",
    "    parent_1=random.randint(0,len_list-1)\n",
    "    parent_2=random.randint(0,len_list-1)\n",
    "    print('\\nParent 1 ['+str(parent_1)+']:'+input_list[parent_1][parent_1].display())\n",
    "    print('\\nParent 2 ['+str(parent_2)+']:'+input_list[parent_1][parent_1].display())\n",
    "    print('\\nChild 1 (P1xP2): '+input_list[parent_1][parent_2].display())\n",
    "    print('\\nChild 2 (P2xP1): '+input_list[parent_2][parent_1].display())"
   ]
  },
  {
   "cell_type": "code",
   "execution_count": null,
   "metadata": {},
   "outputs": [
    {
     "name": "stderr",
     "output_type": "stream",
     "text": [
      "Generating genes: 100%|██████████| 40/40 [00:00<00:00, 6664.77it/s]\n",
      "Crossover function executing: 100%|██████████| 40/40 [00:07<00:00,  5.36it/s]\n",
      "Evaluating genes:   4%|▍         | 72/1600 [00:00<00:01, 1199.73it/s]\n",
      "Displaying genes: 100%|██████████| 1/1 [00:00<00:00, 1000.31it/s]"
     ]
    },
    {
     "name": "stdout",
     "output_type": "stream",
     "text": [
      "Gene [72, 835] Chromosomes: [0, 1, 2, 3, 4, 5] Fitness Factor: 0\n"
     ]
    },
    {
     "name": "stderr",
     "output_type": "stream",
     "text": [
      "\n"
     ]
    }
   ],
   "source": [
    "fitting_data=[x for x in range(GLOBAL_CHROMOSOME_LENGTH)]\n",
    "list_of_genes=GLG()\n",
    "first_gen=GLCF(list_of_genes)\n",
    "index_list=GLFEF(first_gen,fitting_data=fitting_data,stop=True)\n",
    "GLV(first_gen,index_list)"
   ]
  },
  {
   "cell_type": "code",
   "execution_count": null,
   "metadata": {},
   "outputs": [
    {
     "name": "stderr",
     "output_type": "stream",
     "text": [
      "Generating genes: 100%|██████████| 40/40 [00:00<00:00, 7997.15it/s]\n"
     ]
    }
   ],
   "source": [
    "run=True\n",
    "gene_list=GLG()\n",
    "generation_list=[]\n",
    "generation_list.append(gene_list)\n",
    "index_list=[]\n",
    "while run==False:\n",
    "    for i in trange(GLOBAL_EPOCH_COUNT):\n",
    "        if index_list==[]:\n",
    "            generation_list.append(GLCF(generation_list[i]))\n",
    "            index_list=GLFEF(generation_list[i],fitting_data,stop=True)\n",
    "        if index_list!=[]:\n",
    "            GLV(generation_list[i],index_list)\n",
    "            run=False\n",
    "            break\n",
    "    run=False"
   ]
  },
  {
   "cell_type": "code",
   "execution_count": null,
   "metadata": {},
   "outputs": [
    {
     "name": "stdout",
     "output_type": "stream",
     "text": [
      "\n",
      "Parent 1 [1]:Chromosomes: [5, 3, 2, 1, 3, 1] Fitness Factor: 5\n",
      "\n",
      "Parent 2 [1270]:Chromosomes: [5, 3, 2, 1, 3, 1] Fitness Factor: 5\n",
      "\n",
      "Child 1 (P1xP2): Chromosomes: [4, 4, 2, 1, 2, 1] Fitness Factor: 5\n",
      "\n",
      "Child 2 (P2xP1): Chromosomes: [5, 3, 1, 1, 3, 1] Fitness Factor: 9999\n"
     ]
    }
   ],
   "source": [
    "GCLRS(first_gen)"
   ]
  },
  {
   "cell_type": "code",
   "execution_count": null,
   "metadata": {},
   "outputs": [],
   "source": [
    "class Gene_ID_Gen: #deprecated\n",
    "    gene_id_tracker=0\n",
    "    def generate(self):\n",
    "        gene_id=self.gene_id_tracker+1\n",
    "        self.gene_id_tracker=self.gene_id_tracker+1\n",
    "        return gene_id\n",
    "    def latest(self):\n",
    "        return self.gene_id_tracker\n",
    "\n",
    "ID_Gen=Gene_ID_Gen()"
   ]
  }
 ],
 "metadata": {
  "kernelspec": {
   "display_name": "Python 3",
   "language": "python",
   "name": "python3"
  },
  "language_info": {
   "codemirror_mode": {
    "name": "ipython",
    "version": 3
   },
   "file_extension": ".py",
   "mimetype": "text/x-python",
   "name": "python",
   "nbconvert_exporter": "python",
   "pygments_lexer": "ipython3",
   "version": "3.11.2"
  }
 },
 "nbformat": 4,
 "nbformat_minor": 2
}
